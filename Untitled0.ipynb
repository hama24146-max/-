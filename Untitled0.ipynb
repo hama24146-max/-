{
  "nbformat": 4,
  "nbformat_minor": 0,
  "metadata": {
    "colab": {
      "provenance": [],
      "authorship_tag": "ABX9TyMphQhE4yQWgHeN0S3OdXwR",
      "include_colab_link": true
    },
    "kernelspec": {
      "name": "python3",
      "display_name": "Python 3"
    },
    "language_info": {
      "name": "python"
    }
  },
  "cells": [
    {
      "cell_type": "markdown",
      "metadata": {
        "id": "view-in-github",
        "colab_type": "text"
      },
      "source": [
        "<a href=\"https://colab.research.google.com/github/hama24146-max/-/blob/main/Untitled0.ipynb\" target=\"_parent\"><img src=\"https://colab.research.google.com/assets/colab-badge.svg\" alt=\"Open In Colab\"/></a>"
      ]
    },
    {
      "cell_type": "code",
      "execution_count": null,
      "metadata": {
        "id": "v7OJt8QQ-dcb"
      },
      "outputs": [],
      "source": [
        "# @title\n",
        "#席替え用\n",
        "from os import wait\n",
        "import random   #乱数の挿入\n",
        "import time\n",
        "\n",
        "count = 0\n",
        "meibo = [\"荒砂　\", \"和泉　\", \"岡本　\", \"角村　\", \"玖村　\", \"小林　\", \"齋藤　\", \"佐々木\", \"佐藤　\", \"竹田　\", \"巽　　\", \"田中　\", \"寺井　\", \"直江　\", \"中谷　\", \"久本　\", \"蒔田　\",\"三浦　\", \"宮本　\", \"森近　\", \"山根　\", \"吉野　\", \"和田　\", \"　　　\"]\n",
        "jyun = []   #変数、配列の宣言\n",
        "number = [0,0,0,0,0,0,0,0,0,0,\"1,\",\"2,\",\"3,\",\"4,\",\"5,\",\"6,\",\"7,\",\"8,\",\"9,\",\"10,\",\"11,\",\"12,\",\"13,\",\"14,\",\"15,\",\"16,\",\"17,\",\"18,\",\"19,\",\"20,\",\"21,\",\"22,\",\"23,\",\"  \"]\n",
        "\n",
        "while len(jyun) < 18:\n",
        "    #for i in range(22):\n",
        "       check = 0\n",
        "       numberes = random.randint(10,32)\n",
        "       for j in range(len(jyun)):\n",
        "          if numberes == jyun[j]:\n",
        "             check = 1\n",
        "       if check == 0:\n",
        "          jyun.append(numberes)   #重複のない乱数\n",
        "jyun.append(33)\n",
        "while len(jyun) < 24:\n",
        "    #for i in range(22):\n",
        "       check = 0\n",
        "       numberes = random.randint(10,32)\n",
        "       for j in range(len(jyun)):\n",
        "          if numberes == jyun[j]:\n",
        "             check = 1\n",
        "       if check == 0:\n",
        "          jyun.append(numberes)   #重複のない乱数\n",
        "\n",
        "print(jyun)\n",
        "print(\"出席番号\",number[jyun[0]],number[jyun[1]],number[jyun[2]],number[jyun[3]],number[jyun[4]],number[jyun[5]],number[jyun[6]],number[jyun[7]],number[jyun[8]],number[jyun[9]],number[jyun[10]],number[jyun[11]],number[jyun[12]],number[jyun[13]],number[jyun[14]],number[jyun[15]],number[jyun[16]],number[jyun[17]],number[jyun[20]],number[jyun[21]],number[jyun[22]],number[jyun[23]])\n",
        "print(\" \")\n",
        "print(\"_________________________________________________\")\n",
        "print(\"　　　　　　　　　　　黒板\")\n",
        "\n",
        "while count < 24:\n",
        "  time.sleep(1)\n",
        "  l1 = meibo[jyun[count  ]-10]  #配列のカウントは0から\n",
        "  l2 = meibo[jyun[count+1]-10]\n",
        "  l3 = meibo[jyun[count+2]-10]\n",
        "  l4 = meibo[jyun[count+3]-10]\n",
        "  l5 = meibo[jyun[count+4]-10]\n",
        "  l6 = meibo[jyun[count+5]-10]\n",
        "  count = count + 6\n",
        "  print(l1,\" \",l2,\" \",l3,\" \",l4,\" \",l5,\" \",l6)   #配列jyunをもとに名前の割当\n"
      ]
    }
  ]
}